{
 "cells": [
  {
   "cell_type": "code",
   "execution_count": null,
   "id": "7e408e27",
   "metadata": {},
   "outputs": [],
   "source": [
    "import sqlite3\n",
    "\n",
    "# Connect to the database (if it doesn't exist, it will be created)\n",
    "conn = sqlite3.connect('alpr.db')\n",
    "\n",
    "# Create a cursor object to execute SQL commands\n",
    "cursor = conn.cursor()\n",
    "\n",
    "# Create the 'information' table\n",
    "cursor.execute('''\n",
    "    CREATE TABLE IF NOT EXISTS information (\n",
    "        license_number varchar(20) primary key,\n",
    "        chassis_number varchar(20),\n",
    "        engine_number varchar(20),\n",
    "        car_company varchar(20),\n",
    "        car_model varchar(20),\n",
    "        year_of_manufacture INTEGER,\n",
    "        owner_name varchar(20),\n",
    "        phone_number INTEGER(10),\n",
    "        Address varchar(20),\n",
    "        image_path varchar(100)\n",
    "    )\n",
    "''')\n",
    "# Commit the changes and close the connection\n",
    "conn.commit()\n",
    "print(\"CREATED\")\n",
    "conn.close()"
   ]
  },
  {
   "cell_type": "code",
   "execution_count": null,
   "id": "d9c351a8",
   "metadata": {},
   "outputs": [],
   "source": [
    "import sqlite3\n",
    "\n",
    "# Connect to the database\n",
    "conn = sqlite3.connect('alpr.db')\n",
    "cursor = conn.cursor()\n",
    "\n",
    "# Insert a row of values into the 'information' table\n",
    "\n",
    "values = ('21BH2345AA', '123456789', '987654321', 'Maruthi', 'Swift', 2018, 'CB', 9008365771, '11th Cross Indranagar bengaluru Karnataka',\"C:\\mp\\cb.jpg\")\n",
    "cursor.execute(\"INSERT INTO information VALUES (?, ?, ?, ?, ?, ?, ?, ?, ?, ?)\", values)\n",
    "\n",
    "\n",
    "# Commit the changes and close the connection\n",
    "conn.commit()\n",
    "print(\"DATA INSERTED SUCCESFULLY\")\n",
    "conn.close()"
   ]
  },
  {
   "cell_type": "code",
   "execution_count": null,
   "id": "a4528cfe",
   "metadata": {},
   "outputs": [],
   "source": [
    "import sqlite3\n",
    "\n",
    "# Connect to the database\n",
    "conn = sqlite3.connect('alpr.db')\n",
    "cursor = conn.cursor()\n",
    "\n",
    "# Insert a row of values into the 'information' table\n",
    "values = ( 'MH20EE7598', '277297279', '1245927222', 'Skoda', 'Rapid', 2023,'CHANDU S GOWDA', 6362185293, 'Malathalli Nagarbahavi Banglore Karnataka',\"C:\\mp\\csg.jpg\")\n",
    "cursor.execute(\"INSERT INTO information VALUES (?, ?, ?, ?, ?, ?, ?, ?, ?,?)\", values)\n",
    "\n",
    "# Commit the changes and close the connection\n",
    "conn.commit()\n",
    "print(\"DATA INSERTED SUCCESFULLY\")\n",
    "conn.close()"
   ]
  },
  {
   "cell_type": "code",
   "execution_count": 1,
   "id": "c29aba52",
   "metadata": {},
   "outputs": [
    {
     "name": "stdout",
     "output_type": "stream",
     "text": [
      "('MH20EE7598', '277297279', '1245927222', 'Skoda', 'Rapid', 2023, 'CHANDU S GOWDA', 6362185293, 'Malathalli Nagarbahavi Banglore Karnataka', 'C:\\\\mp\\\\csg.jpg')\n",
      "('21BH2345AA', '123456789', '987654321', 'Maruthi', 'Swift', 2018, 'CB', 9008365771, '11th Cross Indranagar bengaluru Karnataka', 'C:\\\\mp\\\\cb.jpg')\n"
     ]
    }
   ],
   "source": [
    "import sqlite3\n",
    "\n",
    "# Connect to the database\n",
    "conn = sqlite3.connect('alpr.db')\n",
    "cursor = conn.cursor()\n",
    "\n",
    "# Retrieve data from the 'information' table\n",
    "cursor.execute(\"SELECT * FROM information\")\n",
    "rows = cursor.fetchall()\n",
    "\n",
    "# Display the retrieved data\n",
    "for row in rows:\n",
    "    print(row)\n",
    "\n",
    "# Close the connection\n",
    "conn.close()"
   ]
  },
  {
   "cell_type": "code",
   "execution_count": null,
   "id": "8293e7fa",
   "metadata": {},
   "outputs": [],
   "source": [
    "import sqlite3\n",
    "\n",
    "# Connect to the database\n",
    "conn = sqlite3.connect('alpr.db')\n",
    "cursor = conn.cursor()\n",
    "\n",
    "# Delete all records from the 'information' table\n",
    "cursor.execute(\"DELETE FROM \")\n",
    "\n",
    "# Commit the changes\n",
    "conn.commit()\n",
    "print(\"DATA DELETED SUCCESFULLY\")\n",
    "# Close the connection\n",
    "conn.close()"
   ]
  }
 ],
 "metadata": {
  "kernelspec": {
   "display_name": "Python 3 (ipykernel)",
   "language": "python",
   "name": "python3"
  },
  "language_info": {
   "codemirror_mode": {
    "name": "ipython",
    "version": 3
   },
   "file_extension": ".py",
   "mimetype": "text/x-python",
   "name": "python",
   "nbconvert_exporter": "python",
   "pygments_lexer": "ipython3",
   "version": "3.11.3"
  }
 },
 "nbformat": 4,
 "nbformat_minor": 5
}
